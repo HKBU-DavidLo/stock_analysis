{
  "nbformat": 4,
  "nbformat_minor": 0,
  "metadata": {
    "colab": {
      "provenance": []
    },
    "kernelspec": {
      "name": "python3",
      "display_name": "Python 3"
    },
    "language_info": {
      "name": "python"
    }
  },
  "cells": [
    {
      "cell_type": "markdown",
      "source": [
        "![image.png](data:image/png;base64,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)"
      ],
      "metadata": {
        "id": "5-YjnmgGXyOa"
      }
    },
    {
      "cell_type": "markdown",
      "source": [
        "![image.png](data:image/png;base64,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)"
      ],
      "metadata": {
        "id": "_R6M41uEa1RD"
      }
    },
    {
      "cell_type": "markdown",
      "source": [
        "![image.png](data:image/png;base64,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)"
      ],
      "metadata": {
        "id": "Ck7v7sPGdhu5"
      }
    },
    {
      "cell_type": "markdown",
      "source": [
        "I have a stock price dataset obtained from yfinanace containing FTSE 100 stock prices from 2021-2022."
      ],
      "metadata": {
        "id": "w2ULwmdkfaFm"
      }
    },
    {
      "cell_type": "code",
      "execution_count": 1,
      "metadata": {
        "id": "p91KMJs6XqS6"
      },
      "outputs": [],
      "source": [
        "import pandas as pd\n",
        "import numpy as np\n",
        "import matplotlib.pyplot as plt"
      ]
    },
    {
      "cell_type": "code",
      "source": [
        "data_url = 'https://raw.githubusercontent.com/HKBU-DavidLo/stock_analysis/master/data/ftse100stocks.csv'\n",
        "df = pd.read_csv(data_url, index_col='Date', parse_dates=True)"
      ],
      "metadata": {
        "id": "5LSbBYrBfoDE"
      },
      "execution_count": 2,
      "outputs": []
    },
    {
      "cell_type": "code",
      "source": [
        "df.head()"
      ],
      "metadata": {
        "colab": {
          "base_uri": "https://localhost:8080/",
          "height": 238
        },
        "id": "Dr7h9Tlxfqbr",
        "outputId": "2531b58d-a638-4824-df75-41c3385345c0"
      },
      "execution_count": 3,
      "outputs": [
        {
          "output_type": "execute_result",
          "data": {
            "text/plain": [
              "                 Open       High        Low      Close  Adj Close     Volume  \\\n",
              "Date                                                                           \n",
              "2021-01-04  77.599998  78.199997  74.400002  74.400002  69.165916  1496738.0   \n",
              "2021-01-05  76.599998  77.599998  74.400002  77.599998  72.140793  2198045.0   \n",
              "2021-01-06  78.500000  80.300003  76.599998  80.300003  74.650856  3017284.0   \n",
              "2021-01-07  82.500000  82.500000  79.400002  79.699997  74.093056  1473496.0   \n",
              "2021-01-08  83.400002  83.400002  77.860001  78.199997  72.698578  1579485.0   \n",
              "\n",
              "           Name  \n",
              "Date             \n",
              "2021-01-04  AAF  \n",
              "2021-01-05  AAF  \n",
              "2021-01-06  AAF  \n",
              "2021-01-07  AAF  \n",
              "2021-01-08  AAF  "
            ],
            "text/html": [
              "\n",
              "  <div id=\"df-37f8695e-962f-48d7-a07e-3e2ae3c3b4ea\">\n",
              "    <div class=\"colab-df-container\">\n",
              "      <div>\n",
              "<style scoped>\n",
              "    .dataframe tbody tr th:only-of-type {\n",
              "        vertical-align: middle;\n",
              "    }\n",
              "\n",
              "    .dataframe tbody tr th {\n",
              "        vertical-align: top;\n",
              "    }\n",
              "\n",
              "    .dataframe thead th {\n",
              "        text-align: right;\n",
              "    }\n",
              "</style>\n",
              "<table border=\"1\" class=\"dataframe\">\n",
              "  <thead>\n",
              "    <tr style=\"text-align: right;\">\n",
              "      <th></th>\n",
              "      <th>Open</th>\n",
              "      <th>High</th>\n",
              "      <th>Low</th>\n",
              "      <th>Close</th>\n",
              "      <th>Adj Close</th>\n",
              "      <th>Volume</th>\n",
              "      <th>Name</th>\n",
              "    </tr>\n",
              "    <tr>\n",
              "      <th>Date</th>\n",
              "      <th></th>\n",
              "      <th></th>\n",
              "      <th></th>\n",
              "      <th></th>\n",
              "      <th></th>\n",
              "      <th></th>\n",
              "      <th></th>\n",
              "    </tr>\n",
              "  </thead>\n",
              "  <tbody>\n",
              "    <tr>\n",
              "      <th>2021-01-04</th>\n",
              "      <td>77.599998</td>\n",
              "      <td>78.199997</td>\n",
              "      <td>74.400002</td>\n",
              "      <td>74.400002</td>\n",
              "      <td>69.165916</td>\n",
              "      <td>1496738.0</td>\n",
              "      <td>AAF</td>\n",
              "    </tr>\n",
              "    <tr>\n",
              "      <th>2021-01-05</th>\n",
              "      <td>76.599998</td>\n",
              "      <td>77.599998</td>\n",
              "      <td>74.400002</td>\n",
              "      <td>77.599998</td>\n",
              "      <td>72.140793</td>\n",
              "      <td>2198045.0</td>\n",
              "      <td>AAF</td>\n",
              "    </tr>\n",
              "    <tr>\n",
              "      <th>2021-01-06</th>\n",
              "      <td>78.500000</td>\n",
              "      <td>80.300003</td>\n",
              "      <td>76.599998</td>\n",
              "      <td>80.300003</td>\n",
              "      <td>74.650856</td>\n",
              "      <td>3017284.0</td>\n",
              "      <td>AAF</td>\n",
              "    </tr>\n",
              "    <tr>\n",
              "      <th>2021-01-07</th>\n",
              "      <td>82.500000</td>\n",
              "      <td>82.500000</td>\n",
              "      <td>79.400002</td>\n",
              "      <td>79.699997</td>\n",
              "      <td>74.093056</td>\n",
              "      <td>1473496.0</td>\n",
              "      <td>AAF</td>\n",
              "    </tr>\n",
              "    <tr>\n",
              "      <th>2021-01-08</th>\n",
              "      <td>83.400002</td>\n",
              "      <td>83.400002</td>\n",
              "      <td>77.860001</td>\n",
              "      <td>78.199997</td>\n",
              "      <td>72.698578</td>\n",
              "      <td>1579485.0</td>\n",
              "      <td>AAF</td>\n",
              "    </tr>\n",
              "  </tbody>\n",
              "</table>\n",
              "</div>\n",
              "      <button class=\"colab-df-convert\" onclick=\"convertToInteractive('df-37f8695e-962f-48d7-a07e-3e2ae3c3b4ea')\"\n",
              "              title=\"Convert this dataframe to an interactive table.\"\n",
              "              style=\"display:none;\">\n",
              "        \n",
              "  <svg xmlns=\"http://www.w3.org/2000/svg\" height=\"24px\"viewBox=\"0 0 24 24\"\n",
              "       width=\"24px\">\n",
              "    <path d=\"M0 0h24v24H0V0z\" fill=\"none\"/>\n",
              "    <path d=\"M18.56 5.44l.94 2.06.94-2.06 2.06-.94-2.06-.94-.94-2.06-.94 2.06-2.06.94zm-11 1L8.5 8.5l.94-2.06 2.06-.94-2.06-.94L8.5 2.5l-.94 2.06-2.06.94zm10 10l.94 2.06.94-2.06 2.06-.94-2.06-.94-.94-2.06-.94 2.06-2.06.94z\"/><path d=\"M17.41 7.96l-1.37-1.37c-.4-.4-.92-.59-1.43-.59-.52 0-1.04.2-1.43.59L10.3 9.45l-7.72 7.72c-.78.78-.78 2.05 0 2.83L4 21.41c.39.39.9.59 1.41.59.51 0 1.02-.2 1.41-.59l7.78-7.78 2.81-2.81c.8-.78.8-2.07 0-2.86zM5.41 20L4 18.59l7.72-7.72 1.47 1.35L5.41 20z\"/>\n",
              "  </svg>\n",
              "      </button>\n",
              "      \n",
              "  <style>\n",
              "    .colab-df-container {\n",
              "      display:flex;\n",
              "      flex-wrap:wrap;\n",
              "      gap: 12px;\n",
              "    }\n",
              "\n",
              "    .colab-df-convert {\n",
              "      background-color: #E8F0FE;\n",
              "      border: none;\n",
              "      border-radius: 50%;\n",
              "      cursor: pointer;\n",
              "      display: none;\n",
              "      fill: #1967D2;\n",
              "      height: 32px;\n",
              "      padding: 0 0 0 0;\n",
              "      width: 32px;\n",
              "    }\n",
              "\n",
              "    .colab-df-convert:hover {\n",
              "      background-color: #E2EBFA;\n",
              "      box-shadow: 0px 1px 2px rgba(60, 64, 67, 0.3), 0px 1px 3px 1px rgba(60, 64, 67, 0.15);\n",
              "      fill: #174EA6;\n",
              "    }\n",
              "\n",
              "    [theme=dark] .colab-df-convert {\n",
              "      background-color: #3B4455;\n",
              "      fill: #D2E3FC;\n",
              "    }\n",
              "\n",
              "    [theme=dark] .colab-df-convert:hover {\n",
              "      background-color: #434B5C;\n",
              "      box-shadow: 0px 1px 3px 1px rgba(0, 0, 0, 0.15);\n",
              "      filter: drop-shadow(0px 1px 2px rgba(0, 0, 0, 0.3));\n",
              "      fill: #FFFFFF;\n",
              "    }\n",
              "  </style>\n",
              "\n",
              "      <script>\n",
              "        const buttonEl =\n",
              "          document.querySelector('#df-37f8695e-962f-48d7-a07e-3e2ae3c3b4ea button.colab-df-convert');\n",
              "        buttonEl.style.display =\n",
              "          google.colab.kernel.accessAllowed ? 'block' : 'none';\n",
              "\n",
              "        async function convertToInteractive(key) {\n",
              "          const element = document.querySelector('#df-37f8695e-962f-48d7-a07e-3e2ae3c3b4ea');\n",
              "          const dataTable =\n",
              "            await google.colab.kernel.invokeFunction('convertToInteractive',\n",
              "                                                     [key], {});\n",
              "          if (!dataTable) return;\n",
              "\n",
              "          const docLinkHtml = 'Like what you see? Visit the ' +\n",
              "            '<a target=\"_blank\" href=https://colab.research.google.com/notebooks/data_table.ipynb>data table notebook</a>'\n",
              "            + ' to learn more about interactive tables.';\n",
              "          element.innerHTML = '';\n",
              "          dataTable['output_type'] = 'display_data';\n",
              "          await google.colab.output.renderOutput(dataTable, element);\n",
              "          const docLink = document.createElement('div');\n",
              "          docLink.innerHTML = docLinkHtml;\n",
              "          element.appendChild(docLink);\n",
              "        }\n",
              "      </script>\n",
              "    </div>\n",
              "  </div>\n",
              "  "
            ]
          },
          "metadata": {},
          "execution_count": 3
        }
      ]
    },
    {
      "cell_type": "code",
      "source": [
        "df['Name'].unique()"
      ],
      "metadata": {
        "colab": {
          "base_uri": "https://localhost:8080/"
        },
        "id": "7Mtih-ewfrak",
        "outputId": "9ebe769b-050e-45f5-cdab-08e990c94d5b"
      },
      "execution_count": 4,
      "outputs": [
        {
          "output_type": "execute_result",
          "data": {
            "text/plain": [
              "array(['AAF', 'AAL', 'ABDN', 'ABF', 'ADM', 'AHT', 'ANTO', 'AUTO', 'AV',\n",
              "       'AZN', 'BA', 'BARC', 'BATS', 'BDEV', 'BEZ', 'BKG', 'BLND', 'BME',\n",
              "       'BNZL', 'BP', 'BRBY', 'BT-A', 'CCH', 'CNA', 'CPG', 'CRDA', 'CRH',\n",
              "       'CTEC', 'DCC', 'DGE', 'EDV', 'ENT', 'EXPN', 'FCIT', 'FLTR', 'FRAS',\n",
              "       'FRES', 'GLEN', 'GSK', 'HL', 'HLMA', 'HLN', 'HSBA', 'HSX', 'IAG',\n",
              "       'IHG', 'III', 'IMB', 'INF', 'ITRK', 'JD', 'JMAT', 'KGF', 'LAND',\n",
              "       'LGEN', 'LLOY', 'LSEG', 'MNDI', 'MNG', 'MRO', 'NG', 'NWG', 'NXT',\n",
              "       'OCDO', 'PHNX', 'PRU', 'PSH', 'PSN', 'PSON', 'REL', 'RIO', 'RKT',\n",
              "       'RMV', 'RR', 'RS1', 'RTO', 'SBRY', 'SDR', 'SGE', 'SGRO', 'SHEL',\n",
              "       'SKG', 'SMDS', 'SMIN', 'SMT', 'SN', 'SPX', 'SSE', 'STAN', 'STJ',\n",
              "       'SVT', 'TSCO', 'TW', 'ULVR', 'UTG', 'UU', 'VOD', 'WEIR', 'WPP'],\n",
              "      dtype=object)"
            ]
          },
          "metadata": {},
          "execution_count": 4
        }
      ]
    },
    {
      "cell_type": "code",
      "source": [
        "# select a few stocks as my portfolio (random, not a real portfolio)\n",
        "portfolio = ['GLEN', 'PSN', 'BP', 'UU', 'STAN']"
      ],
      "metadata": {
        "id": "amR1bPqwfvM7"
      },
      "execution_count": 5,
      "outputs": []
    },
    {
      "cell_type": "markdown",
      "source": [
        "Reconstruct a dataset with closing prices in 2022 of the stocks in the portfolio, with the format as follows:"
      ],
      "metadata": {
        "id": "qPtdQ1LKf_t8"
      }
    },
    {
      "cell_type": "markdown",
      "source": [
        "|Date| LLOY | VOD | BP | BT-A | TW |"
      ],
      "metadata": {
        "id": "0Ym6ZRy_gHn_"
      }
    },
    {
      "cell_type": "code",
      "source": [
        "# to have all unique dates in 2022 to be in the dataset as the index column\n",
        "all_dates = df.index.unique().sort_values()"
      ],
      "metadata": {
        "id": "bh3420DWf9MS"
      },
      "execution_count": 6,
      "outputs": []
    },
    {
      "cell_type": "code",
      "source": [
        "len(all_dates)"
      ],
      "metadata": {
        "colab": {
          "base_uri": "https://localhost:8080/"
        },
        "id": "B_g6ezI0t6sK",
        "outputId": "ea446ec0-cc13-42f0-bbea-2528da20db2b"
      },
      "execution_count": 7,
      "outputs": [
        {
          "output_type": "execute_result",
          "data": {
            "text/plain": [
              "523"
            ]
          },
          "metadata": {},
          "execution_count": 7
        }
      ]
    },
    {
      "cell_type": "code",
      "source": [
        "all_dates.get_loc('2022-01-04') # first trading date in 2022"
      ],
      "metadata": {
        "colab": {
          "base_uri": "https://localhost:8080/"
        },
        "id": "rnF699Opt8LB",
        "outputId": "d863880f-c591-49b1-9c51-1c2637cfd7fc"
      },
      "execution_count": 8,
      "outputs": [
        {
          "output_type": "execute_result",
          "data": {
            "text/plain": [
              "253"
            ]
          },
          "metadata": {},
          "execution_count": 8
        }
      ]
    },
    {
      "cell_type": "code",
      "source": [
        "all_dates.get_loc('2022-12-30') # last trading date in 2022"
      ],
      "metadata": {
        "colab": {
          "base_uri": "https://localhost:8080/"
        },
        "id": "MD5BF3PZuHIJ",
        "outputId": "b0fb807f-7ed7-428e-e7c8-23f29ea71e84"
      },
      "execution_count": 9,
      "outputs": [
        {
          "output_type": "execute_result",
          "data": {
            "text/plain": [
              "502"
            ]
          },
          "metadata": {},
          "execution_count": 9
        }
      ]
    },
    {
      "cell_type": "code",
      "source": [
        "start = all_dates.get_loc('2022-01-04')\n",
        "end = all_dates.get_loc('2022-12-30')\n",
        "dates = all_dates[start: end+1]"
      ],
      "metadata": {
        "id": "WgAXZtWjuLZQ"
      },
      "execution_count": 10,
      "outputs": []
    },
    {
      "cell_type": "code",
      "source": [
        "len(dates) # no. of trading days in 2022"
      ],
      "metadata": {
        "colab": {
          "base_uri": "https://localhost:8080/"
        },
        "id": "Do35SIGYudQY",
        "outputId": "2163a5d2-5010-446e-e908-192a363adada"
      },
      "execution_count": 11,
      "outputs": [
        {
          "output_type": "execute_result",
          "data": {
            "text/plain": [
              "250"
            ]
          },
          "metadata": {},
          "execution_count": 11
        }
      ]
    },
    {
      "cell_type": "code",
      "source": [
        "# create empty dataset with the index to be the target dates\n",
        "close_prices = pd.DataFrame(index=dates)"
      ],
      "metadata": {
        "id": "7F2h81-DugLV"
      },
      "execution_count": 12,
      "outputs": []
    },
    {
      "cell_type": "code",
      "source": [
        "# rearrange the rwos in the df so that close_prices will have the columns of\n",
        "# closing prices of the portfolio stock next to the date index column\n",
        "for stock in portfolio:\n",
        "  df_sym = df[df['Name']==stock]\n",
        "  df_tmp = pd.DataFrame(data=df_sym['Close'].to_numpy(), \\\n",
        "                        index=df_sym.index, columns=[stock])\n",
        "  close_prices = close_prices.join(df_tmp)"
      ],
      "metadata": {
        "id": "RTQY-6Ewu2MH"
      },
      "execution_count": 13,
      "outputs": []
    },
    {
      "cell_type": "code",
      "source": [
        "close_prices.head()"
      ],
      "metadata": {
        "colab": {
          "base_uri": "https://localhost:8080/",
          "height": 238
        },
        "id": "oxHhZu-kvR3w",
        "outputId": "b887c39b-ce77-4029-bf13-29a143aa7dec"
      },
      "execution_count": 14,
      "outputs": [
        {
          "output_type": "execute_result",
          "data": {
            "text/plain": [
              "                  GLEN     PSN          BP      UU        STAN\n",
              "Date                                                          \n",
              "2022-01-04  387.649994  2883.0  351.000000  1091.5  462.799988\n",
              "2022-01-05  393.000000  2877.0  354.799988  1083.0  460.200012\n",
              "2022-01-06  388.350006  2800.0  355.149994  1072.5  477.299988\n",
              "2022-01-07  395.350006  2794.0  362.549988  1068.0  487.000000\n",
              "2022-01-10  388.950012  2650.0  363.049988  1055.0  492.500000"
            ],
            "text/html": [
              "\n",
              "  <div id=\"df-323653ae-ed28-49f8-ae3e-19f30f2326e4\">\n",
              "    <div class=\"colab-df-container\">\n",
              "      <div>\n",
              "<style scoped>\n",
              "    .dataframe tbody tr th:only-of-type {\n",
              "        vertical-align: middle;\n",
              "    }\n",
              "\n",
              "    .dataframe tbody tr th {\n",
              "        vertical-align: top;\n",
              "    }\n",
              "\n",
              "    .dataframe thead th {\n",
              "        text-align: right;\n",
              "    }\n",
              "</style>\n",
              "<table border=\"1\" class=\"dataframe\">\n",
              "  <thead>\n",
              "    <tr style=\"text-align: right;\">\n",
              "      <th></th>\n",
              "      <th>GLEN</th>\n",
              "      <th>PSN</th>\n",
              "      <th>BP</th>\n",
              "      <th>UU</th>\n",
              "      <th>STAN</th>\n",
              "    </tr>\n",
              "    <tr>\n",
              "      <th>Date</th>\n",
              "      <th></th>\n",
              "      <th></th>\n",
              "      <th></th>\n",
              "      <th></th>\n",
              "      <th></th>\n",
              "    </tr>\n",
              "  </thead>\n",
              "  <tbody>\n",
              "    <tr>\n",
              "      <th>2022-01-04</th>\n",
              "      <td>387.649994</td>\n",
              "      <td>2883.0</td>\n",
              "      <td>351.000000</td>\n",
              "      <td>1091.5</td>\n",
              "      <td>462.799988</td>\n",
              "    </tr>\n",
              "    <tr>\n",
              "      <th>2022-01-05</th>\n",
              "      <td>393.000000</td>\n",
              "      <td>2877.0</td>\n",
              "      <td>354.799988</td>\n",
              "      <td>1083.0</td>\n",
              "      <td>460.200012</td>\n",
              "    </tr>\n",
              "    <tr>\n",
              "      <th>2022-01-06</th>\n",
              "      <td>388.350006</td>\n",
              "      <td>2800.0</td>\n",
              "      <td>355.149994</td>\n",
              "      <td>1072.5</td>\n",
              "      <td>477.299988</td>\n",
              "    </tr>\n",
              "    <tr>\n",
              "      <th>2022-01-07</th>\n",
              "      <td>395.350006</td>\n",
              "      <td>2794.0</td>\n",
              "      <td>362.549988</td>\n",
              "      <td>1068.0</td>\n",
              "      <td>487.000000</td>\n",
              "    </tr>\n",
              "    <tr>\n",
              "      <th>2022-01-10</th>\n",
              "      <td>388.950012</td>\n",
              "      <td>2650.0</td>\n",
              "      <td>363.049988</td>\n",
              "      <td>1055.0</td>\n",
              "      <td>492.500000</td>\n",
              "    </tr>\n",
              "  </tbody>\n",
              "</table>\n",
              "</div>\n",
              "      <button class=\"colab-df-convert\" onclick=\"convertToInteractive('df-323653ae-ed28-49f8-ae3e-19f30f2326e4')\"\n",
              "              title=\"Convert this dataframe to an interactive table.\"\n",
              "              style=\"display:none;\">\n",
              "        \n",
              "  <svg xmlns=\"http://www.w3.org/2000/svg\" height=\"24px\"viewBox=\"0 0 24 24\"\n",
              "       width=\"24px\">\n",
              "    <path d=\"M0 0h24v24H0V0z\" fill=\"none\"/>\n",
              "    <path d=\"M18.56 5.44l.94 2.06.94-2.06 2.06-.94-2.06-.94-.94-2.06-.94 2.06-2.06.94zm-11 1L8.5 8.5l.94-2.06 2.06-.94-2.06-.94L8.5 2.5l-.94 2.06-2.06.94zm10 10l.94 2.06.94-2.06 2.06-.94-2.06-.94-.94-2.06-.94 2.06-2.06.94z\"/><path d=\"M17.41 7.96l-1.37-1.37c-.4-.4-.92-.59-1.43-.59-.52 0-1.04.2-1.43.59L10.3 9.45l-7.72 7.72c-.78.78-.78 2.05 0 2.83L4 21.41c.39.39.9.59 1.41.59.51 0 1.02-.2 1.41-.59l7.78-7.78 2.81-2.81c.8-.78.8-2.07 0-2.86zM5.41 20L4 18.59l7.72-7.72 1.47 1.35L5.41 20z\"/>\n",
              "  </svg>\n",
              "      </button>\n",
              "      \n",
              "  <style>\n",
              "    .colab-df-container {\n",
              "      display:flex;\n",
              "      flex-wrap:wrap;\n",
              "      gap: 12px;\n",
              "    }\n",
              "\n",
              "    .colab-df-convert {\n",
              "      background-color: #E8F0FE;\n",
              "      border: none;\n",
              "      border-radius: 50%;\n",
              "      cursor: pointer;\n",
              "      display: none;\n",
              "      fill: #1967D2;\n",
              "      height: 32px;\n",
              "      padding: 0 0 0 0;\n",
              "      width: 32px;\n",
              "    }\n",
              "\n",
              "    .colab-df-convert:hover {\n",
              "      background-color: #E2EBFA;\n",
              "      box-shadow: 0px 1px 2px rgba(60, 64, 67, 0.3), 0px 1px 3px 1px rgba(60, 64, 67, 0.15);\n",
              "      fill: #174EA6;\n",
              "    }\n",
              "\n",
              "    [theme=dark] .colab-df-convert {\n",
              "      background-color: #3B4455;\n",
              "      fill: #D2E3FC;\n",
              "    }\n",
              "\n",
              "    [theme=dark] .colab-df-convert:hover {\n",
              "      background-color: #434B5C;\n",
              "      box-shadow: 0px 1px 3px 1px rgba(0, 0, 0, 0.15);\n",
              "      filter: drop-shadow(0px 1px 2px rgba(0, 0, 0, 0.3));\n",
              "      fill: #FFFFFF;\n",
              "    }\n",
              "  </style>\n",
              "\n",
              "      <script>\n",
              "        const buttonEl =\n",
              "          document.querySelector('#df-323653ae-ed28-49f8-ae3e-19f30f2326e4 button.colab-df-convert');\n",
              "        buttonEl.style.display =\n",
              "          google.colab.kernel.accessAllowed ? 'block' : 'none';\n",
              "\n",
              "        async function convertToInteractive(key) {\n",
              "          const element = document.querySelector('#df-323653ae-ed28-49f8-ae3e-19f30f2326e4');\n",
              "          const dataTable =\n",
              "            await google.colab.kernel.invokeFunction('convertToInteractive',\n",
              "                                                     [key], {});\n",
              "          if (!dataTable) return;\n",
              "\n",
              "          const docLinkHtml = 'Like what you see? Visit the ' +\n",
              "            '<a target=\"_blank\" href=https://colab.research.google.com/notebooks/data_table.ipynb>data table notebook</a>'\n",
              "            + ' to learn more about interactive tables.';\n",
              "          element.innerHTML = '';\n",
              "          dataTable['output_type'] = 'display_data';\n",
              "          await google.colab.output.renderOutput(dataTable, element);\n",
              "          const docLink = document.createElement('div');\n",
              "          docLink.innerHTML = docLinkHtml;\n",
              "          element.appendChild(docLink);\n",
              "        }\n",
              "      </script>\n",
              "    </div>\n",
              "  </div>\n",
              "  "
            ]
          },
          "metadata": {},
          "execution_count": 14
        }
      ]
    },
    {
      "cell_type": "markdown",
      "source": [
        "After the dataset of closing prices are made, second task is to handle the missing values by forward filling and backward filling"
      ],
      "metadata": {
        "id": "kp_xRuyavdnp"
      }
    },
    {
      "cell_type": "code",
      "source": [
        "close_prices.isna().sum()"
      ],
      "metadata": {
        "colab": {
          "base_uri": "https://localhost:8080/"
        },
        "id": "3kbVIe6OvS_Q",
        "outputId": "70a4349f-e201-4657-8b22-1304a4195fd8"
      },
      "execution_count": 15,
      "outputs": [
        {
          "output_type": "execute_result",
          "data": {
            "text/plain": [
              "GLEN    2\n",
              "PSN     0\n",
              "BP      3\n",
              "UU      0\n",
              "STAN    0\n",
              "dtype: int64"
            ]
          },
          "metadata": {},
          "execution_count": 15
        }
      ]
    },
    {
      "cell_type": "code",
      "source": [
        "close_prices[close_prices['GLEN'].isna()]"
      ],
      "metadata": {
        "colab": {
          "base_uri": "https://localhost:8080/",
          "height": 143
        },
        "id": "x7CpNTt2vrwg",
        "outputId": "a67d36a4-be8e-4dc3-e347-4f2ee7b7d60f"
      },
      "execution_count": 16,
      "outputs": [
        {
          "output_type": "execute_result",
          "data": {
            "text/plain": [
              "            GLEN     PSN          BP      UU        STAN\n",
              "Date                                                    \n",
              "2022-03-10   NaN  2120.0         NaN  1073.0  489.600006\n",
              "2022-04-25   NaN  2194.0  368.850006  1132.5  497.299988"
            ],
            "text/html": [
              "\n",
              "  <div id=\"df-cf2252c4-a195-4287-b08c-0595bd096fc5\">\n",
              "    <div class=\"colab-df-container\">\n",
              "      <div>\n",
              "<style scoped>\n",
              "    .dataframe tbody tr th:only-of-type {\n",
              "        vertical-align: middle;\n",
              "    }\n",
              "\n",
              "    .dataframe tbody tr th {\n",
              "        vertical-align: top;\n",
              "    }\n",
              "\n",
              "    .dataframe thead th {\n",
              "        text-align: right;\n",
              "    }\n",
              "</style>\n",
              "<table border=\"1\" class=\"dataframe\">\n",
              "  <thead>\n",
              "    <tr style=\"text-align: right;\">\n",
              "      <th></th>\n",
              "      <th>GLEN</th>\n",
              "      <th>PSN</th>\n",
              "      <th>BP</th>\n",
              "      <th>UU</th>\n",
              "      <th>STAN</th>\n",
              "    </tr>\n",
              "    <tr>\n",
              "      <th>Date</th>\n",
              "      <th></th>\n",
              "      <th></th>\n",
              "      <th></th>\n",
              "      <th></th>\n",
              "      <th></th>\n",
              "    </tr>\n",
              "  </thead>\n",
              "  <tbody>\n",
              "    <tr>\n",
              "      <th>2022-03-10</th>\n",
              "      <td>NaN</td>\n",
              "      <td>2120.0</td>\n",
              "      <td>NaN</td>\n",
              "      <td>1073.0</td>\n",
              "      <td>489.600006</td>\n",
              "    </tr>\n",
              "    <tr>\n",
              "      <th>2022-04-25</th>\n",
              "      <td>NaN</td>\n",
              "      <td>2194.0</td>\n",
              "      <td>368.850006</td>\n",
              "      <td>1132.5</td>\n",
              "      <td>497.299988</td>\n",
              "    </tr>\n",
              "  </tbody>\n",
              "</table>\n",
              "</div>\n",
              "      <button class=\"colab-df-convert\" onclick=\"convertToInteractive('df-cf2252c4-a195-4287-b08c-0595bd096fc5')\"\n",
              "              title=\"Convert this dataframe to an interactive table.\"\n",
              "              style=\"display:none;\">\n",
              "        \n",
              "  <svg xmlns=\"http://www.w3.org/2000/svg\" height=\"24px\"viewBox=\"0 0 24 24\"\n",
              "       width=\"24px\">\n",
              "    <path d=\"M0 0h24v24H0V0z\" fill=\"none\"/>\n",
              "    <path d=\"M18.56 5.44l.94 2.06.94-2.06 2.06-.94-2.06-.94-.94-2.06-.94 2.06-2.06.94zm-11 1L8.5 8.5l.94-2.06 2.06-.94-2.06-.94L8.5 2.5l-.94 2.06-2.06.94zm10 10l.94 2.06.94-2.06 2.06-.94-2.06-.94-.94-2.06-.94 2.06-2.06.94z\"/><path d=\"M17.41 7.96l-1.37-1.37c-.4-.4-.92-.59-1.43-.59-.52 0-1.04.2-1.43.59L10.3 9.45l-7.72 7.72c-.78.78-.78 2.05 0 2.83L4 21.41c.39.39.9.59 1.41.59.51 0 1.02-.2 1.41-.59l7.78-7.78 2.81-2.81c.8-.78.8-2.07 0-2.86zM5.41 20L4 18.59l7.72-7.72 1.47 1.35L5.41 20z\"/>\n",
              "  </svg>\n",
              "      </button>\n",
              "      \n",
              "  <style>\n",
              "    .colab-df-container {\n",
              "      display:flex;\n",
              "      flex-wrap:wrap;\n",
              "      gap: 12px;\n",
              "    }\n",
              "\n",
              "    .colab-df-convert {\n",
              "      background-color: #E8F0FE;\n",
              "      border: none;\n",
              "      border-radius: 50%;\n",
              "      cursor: pointer;\n",
              "      display: none;\n",
              "      fill: #1967D2;\n",
              "      height: 32px;\n",
              "      padding: 0 0 0 0;\n",
              "      width: 32px;\n",
              "    }\n",
              "\n",
              "    .colab-df-convert:hover {\n",
              "      background-color: #E2EBFA;\n",
              "      box-shadow: 0px 1px 2px rgba(60, 64, 67, 0.3), 0px 1px 3px 1px rgba(60, 64, 67, 0.15);\n",
              "      fill: #174EA6;\n",
              "    }\n",
              "\n",
              "    [theme=dark] .colab-df-convert {\n",
              "      background-color: #3B4455;\n",
              "      fill: #D2E3FC;\n",
              "    }\n",
              "\n",
              "    [theme=dark] .colab-df-convert:hover {\n",
              "      background-color: #434B5C;\n",
              "      box-shadow: 0px 1px 3px 1px rgba(0, 0, 0, 0.15);\n",
              "      filter: drop-shadow(0px 1px 2px rgba(0, 0, 0, 0.3));\n",
              "      fill: #FFFFFF;\n",
              "    }\n",
              "  </style>\n",
              "\n",
              "      <script>\n",
              "        const buttonEl =\n",
              "          document.querySelector('#df-cf2252c4-a195-4287-b08c-0595bd096fc5 button.colab-df-convert');\n",
              "        buttonEl.style.display =\n",
              "          google.colab.kernel.accessAllowed ? 'block' : 'none';\n",
              "\n",
              "        async function convertToInteractive(key) {\n",
              "          const element = document.querySelector('#df-cf2252c4-a195-4287-b08c-0595bd096fc5');\n",
              "          const dataTable =\n",
              "            await google.colab.kernel.invokeFunction('convertToInteractive',\n",
              "                                                     [key], {});\n",
              "          if (!dataTable) return;\n",
              "\n",
              "          const docLinkHtml = 'Like what you see? Visit the ' +\n",
              "            '<a target=\"_blank\" href=https://colab.research.google.com/notebooks/data_table.ipynb>data table notebook</a>'\n",
              "            + ' to learn more about interactive tables.';\n",
              "          element.innerHTML = '';\n",
              "          dataTable['output_type'] = 'display_data';\n",
              "          await google.colab.output.renderOutput(dataTable, element);\n",
              "          const docLink = document.createElement('div');\n",
              "          docLink.innerHTML = docLinkHtml;\n",
              "          element.appendChild(docLink);\n",
              "        }\n",
              "      </script>\n",
              "    </div>\n",
              "  </div>\n",
              "  "
            ]
          },
          "metadata": {},
          "execution_count": 16
        }
      ]
    },
    {
      "cell_type": "code",
      "source": [
        "close_prices[close_prices['BP'].isna()]"
      ],
      "metadata": {
        "colab": {
          "base_uri": "https://localhost:8080/",
          "height": 175
        },
        "id": "aAP-uv6jvv3H",
        "outputId": "cf96c935-967f-4c09-f52c-2e8fd6c5e96d"
      },
      "execution_count": 17,
      "outputs": [
        {
          "output_type": "execute_result",
          "data": {
            "text/plain": [
              "                  GLEN     PSN  BP      UU        STAN\n",
              "Date                                                  \n",
              "2022-01-11  387.799988  2680.0 NaN  1049.5  492.799988\n",
              "2022-03-10         NaN  2120.0 NaN  1073.0  489.600006\n",
              "2022-05-18  498.200012  2116.0 NaN  1144.5  596.400024"
            ],
            "text/html": [
              "\n",
              "  <div id=\"df-7feadd7b-6c6f-4259-a0b7-6e986d4916b2\">\n",
              "    <div class=\"colab-df-container\">\n",
              "      <div>\n",
              "<style scoped>\n",
              "    .dataframe tbody tr th:only-of-type {\n",
              "        vertical-align: middle;\n",
              "    }\n",
              "\n",
              "    .dataframe tbody tr th {\n",
              "        vertical-align: top;\n",
              "    }\n",
              "\n",
              "    .dataframe thead th {\n",
              "        text-align: right;\n",
              "    }\n",
              "</style>\n",
              "<table border=\"1\" class=\"dataframe\">\n",
              "  <thead>\n",
              "    <tr style=\"text-align: right;\">\n",
              "      <th></th>\n",
              "      <th>GLEN</th>\n",
              "      <th>PSN</th>\n",
              "      <th>BP</th>\n",
              "      <th>UU</th>\n",
              "      <th>STAN</th>\n",
              "    </tr>\n",
              "    <tr>\n",
              "      <th>Date</th>\n",
              "      <th></th>\n",
              "      <th></th>\n",
              "      <th></th>\n",
              "      <th></th>\n",
              "      <th></th>\n",
              "    </tr>\n",
              "  </thead>\n",
              "  <tbody>\n",
              "    <tr>\n",
              "      <th>2022-01-11</th>\n",
              "      <td>387.799988</td>\n",
              "      <td>2680.0</td>\n",
              "      <td>NaN</td>\n",
              "      <td>1049.5</td>\n",
              "      <td>492.799988</td>\n",
              "    </tr>\n",
              "    <tr>\n",
              "      <th>2022-03-10</th>\n",
              "      <td>NaN</td>\n",
              "      <td>2120.0</td>\n",
              "      <td>NaN</td>\n",
              "      <td>1073.0</td>\n",
              "      <td>489.600006</td>\n",
              "    </tr>\n",
              "    <tr>\n",
              "      <th>2022-05-18</th>\n",
              "      <td>498.200012</td>\n",
              "      <td>2116.0</td>\n",
              "      <td>NaN</td>\n",
              "      <td>1144.5</td>\n",
              "      <td>596.400024</td>\n",
              "    </tr>\n",
              "  </tbody>\n",
              "</table>\n",
              "</div>\n",
              "      <button class=\"colab-df-convert\" onclick=\"convertToInteractive('df-7feadd7b-6c6f-4259-a0b7-6e986d4916b2')\"\n",
              "              title=\"Convert this dataframe to an interactive table.\"\n",
              "              style=\"display:none;\">\n",
              "        \n",
              "  <svg xmlns=\"http://www.w3.org/2000/svg\" height=\"24px\"viewBox=\"0 0 24 24\"\n",
              "       width=\"24px\">\n",
              "    <path d=\"M0 0h24v24H0V0z\" fill=\"none\"/>\n",
              "    <path d=\"M18.56 5.44l.94 2.06.94-2.06 2.06-.94-2.06-.94-.94-2.06-.94 2.06-2.06.94zm-11 1L8.5 8.5l.94-2.06 2.06-.94-2.06-.94L8.5 2.5l-.94 2.06-2.06.94zm10 10l.94 2.06.94-2.06 2.06-.94-2.06-.94-.94-2.06-.94 2.06-2.06.94z\"/><path d=\"M17.41 7.96l-1.37-1.37c-.4-.4-.92-.59-1.43-.59-.52 0-1.04.2-1.43.59L10.3 9.45l-7.72 7.72c-.78.78-.78 2.05 0 2.83L4 21.41c.39.39.9.59 1.41.59.51 0 1.02-.2 1.41-.59l7.78-7.78 2.81-2.81c.8-.78.8-2.07 0-2.86zM5.41 20L4 18.59l7.72-7.72 1.47 1.35L5.41 20z\"/>\n",
              "  </svg>\n",
              "      </button>\n",
              "      \n",
              "  <style>\n",
              "    .colab-df-container {\n",
              "      display:flex;\n",
              "      flex-wrap:wrap;\n",
              "      gap: 12px;\n",
              "    }\n",
              "\n",
              "    .colab-df-convert {\n",
              "      background-color: #E8F0FE;\n",
              "      border: none;\n",
              "      border-radius: 50%;\n",
              "      cursor: pointer;\n",
              "      display: none;\n",
              "      fill: #1967D2;\n",
              "      height: 32px;\n",
              "      padding: 0 0 0 0;\n",
              "      width: 32px;\n",
              "    }\n",
              "\n",
              "    .colab-df-convert:hover {\n",
              "      background-color: #E2EBFA;\n",
              "      box-shadow: 0px 1px 2px rgba(60, 64, 67, 0.3), 0px 1px 3px 1px rgba(60, 64, 67, 0.15);\n",
              "      fill: #174EA6;\n",
              "    }\n",
              "\n",
              "    [theme=dark] .colab-df-convert {\n",
              "      background-color: #3B4455;\n",
              "      fill: #D2E3FC;\n",
              "    }\n",
              "\n",
              "    [theme=dark] .colab-df-convert:hover {\n",
              "      background-color: #434B5C;\n",
              "      box-shadow: 0px 1px 3px 1px rgba(0, 0, 0, 0.15);\n",
              "      filter: drop-shadow(0px 1px 2px rgba(0, 0, 0, 0.3));\n",
              "      fill: #FFFFFF;\n",
              "    }\n",
              "  </style>\n",
              "\n",
              "      <script>\n",
              "        const buttonEl =\n",
              "          document.querySelector('#df-7feadd7b-6c6f-4259-a0b7-6e986d4916b2 button.colab-df-convert');\n",
              "        buttonEl.style.display =\n",
              "          google.colab.kernel.accessAllowed ? 'block' : 'none';\n",
              "\n",
              "        async function convertToInteractive(key) {\n",
              "          const element = document.querySelector('#df-7feadd7b-6c6f-4259-a0b7-6e986d4916b2');\n",
              "          const dataTable =\n",
              "            await google.colab.kernel.invokeFunction('convertToInteractive',\n",
              "                                                     [key], {});\n",
              "          if (!dataTable) return;\n",
              "\n",
              "          const docLinkHtml = 'Like what you see? Visit the ' +\n",
              "            '<a target=\"_blank\" href=https://colab.research.google.com/notebooks/data_table.ipynb>data table notebook</a>'\n",
              "            + ' to learn more about interactive tables.';\n",
              "          element.innerHTML = '';\n",
              "          dataTable['output_type'] = 'display_data';\n",
              "          await google.colab.output.renderOutput(dataTable, element);\n",
              "          const docLink = document.createElement('div');\n",
              "          docLink.innerHTML = docLinkHtml;\n",
              "          element.appendChild(docLink);\n",
              "        }\n",
              "      </script>\n",
              "    </div>\n",
              "  </div>\n",
              "  "
            ]
          },
          "metadata": {},
          "execution_count": 17
        }
      ]
    },
    {
      "cell_type": "code",
      "source": [
        "close_prices.fillna(method='ffill', inplace=True)"
      ],
      "metadata": {
        "id": "NIjbC3ufvyJH"
      },
      "execution_count": 18,
      "outputs": []
    },
    {
      "cell_type": "code",
      "source": [
        "close_prices.isna().sum().sum()"
      ],
      "metadata": {
        "colab": {
          "base_uri": "https://localhost:8080/"
        },
        "id": "1xWpZa5fv0mf",
        "outputId": "f936ac01-bd16-4ee0-e639-78caa964bf64"
      },
      "execution_count": 19,
      "outputs": [
        {
          "output_type": "execute_result",
          "data": {
            "text/plain": [
              "0"
            ]
          },
          "metadata": {},
          "execution_count": 19
        }
      ]
    },
    {
      "cell_type": "markdown",
      "source": [
        "Then I have to calculate the **daily** returns of each of the stocks by creating a new dataset named \"returns\", with the index column as the trading date (excluding the first trading date since no return can be calculated on that day)"
      ],
      "metadata": {
        "id": "fPf739cywYdk"
      }
    },
    {
      "cell_type": "code",
      "source": [
        "returns = pd.DataFrame(index=dates[1:])\n",
        "returns.head()"
      ],
      "metadata": {
        "colab": {
          "base_uri": "https://localhost:8080/",
          "height": 220
        },
        "id": "5tXN1IAkv2P3",
        "outputId": "af31569a-4d98-4b1d-f17d-5ca838574c75"
      },
      "execution_count": 20,
      "outputs": [
        {
          "output_type": "execute_result",
          "data": {
            "text/plain": [
              "Empty DataFrame\n",
              "Columns: []\n",
              "Index: [2022-01-05 00:00:00, 2022-01-06 00:00:00, 2022-01-07 00:00:00, 2022-01-10 00:00:00, 2022-01-11 00:00:00]"
            ],
            "text/html": [
              "\n",
              "  <div id=\"df-dd0dd36e-af42-423d-9a8b-0e1cbf9014dd\">\n",
              "    <div class=\"colab-df-container\">\n",
              "      <div>\n",
              "<style scoped>\n",
              "    .dataframe tbody tr th:only-of-type {\n",
              "        vertical-align: middle;\n",
              "    }\n",
              "\n",
              "    .dataframe tbody tr th {\n",
              "        vertical-align: top;\n",
              "    }\n",
              "\n",
              "    .dataframe thead th {\n",
              "        text-align: right;\n",
              "    }\n",
              "</style>\n",
              "<table border=\"1\" class=\"dataframe\">\n",
              "  <thead>\n",
              "    <tr style=\"text-align: right;\">\n",
              "      <th></th>\n",
              "    </tr>\n",
              "    <tr>\n",
              "      <th>Date</th>\n",
              "    </tr>\n",
              "  </thead>\n",
              "  <tbody>\n",
              "    <tr>\n",
              "      <th>2022-01-05</th>\n",
              "    </tr>\n",
              "    <tr>\n",
              "      <th>2022-01-06</th>\n",
              "    </tr>\n",
              "    <tr>\n",
              "      <th>2022-01-07</th>\n",
              "    </tr>\n",
              "    <tr>\n",
              "      <th>2022-01-10</th>\n",
              "    </tr>\n",
              "    <tr>\n",
              "      <th>2022-01-11</th>\n",
              "    </tr>\n",
              "  </tbody>\n",
              "</table>\n",
              "</div>\n",
              "      <button class=\"colab-df-convert\" onclick=\"convertToInteractive('df-dd0dd36e-af42-423d-9a8b-0e1cbf9014dd')\"\n",
              "              title=\"Convert this dataframe to an interactive table.\"\n",
              "              style=\"display:none;\">\n",
              "        \n",
              "  <svg xmlns=\"http://www.w3.org/2000/svg\" height=\"24px\"viewBox=\"0 0 24 24\"\n",
              "       width=\"24px\">\n",
              "    <path d=\"M0 0h24v24H0V0z\" fill=\"none\"/>\n",
              "    <path d=\"M18.56 5.44l.94 2.06.94-2.06 2.06-.94-2.06-.94-.94-2.06-.94 2.06-2.06.94zm-11 1L8.5 8.5l.94-2.06 2.06-.94-2.06-.94L8.5 2.5l-.94 2.06-2.06.94zm10 10l.94 2.06.94-2.06 2.06-.94-2.06-.94-.94-2.06-.94 2.06-2.06.94z\"/><path d=\"M17.41 7.96l-1.37-1.37c-.4-.4-.92-.59-1.43-.59-.52 0-1.04.2-1.43.59L10.3 9.45l-7.72 7.72c-.78.78-.78 2.05 0 2.83L4 21.41c.39.39.9.59 1.41.59.51 0 1.02-.2 1.41-.59l7.78-7.78 2.81-2.81c.8-.78.8-2.07 0-2.86zM5.41 20L4 18.59l7.72-7.72 1.47 1.35L5.41 20z\"/>\n",
              "  </svg>\n",
              "      </button>\n",
              "      \n",
              "  <style>\n",
              "    .colab-df-container {\n",
              "      display:flex;\n",
              "      flex-wrap:wrap;\n",
              "      gap: 12px;\n",
              "    }\n",
              "\n",
              "    .colab-df-convert {\n",
              "      background-color: #E8F0FE;\n",
              "      border: none;\n",
              "      border-radius: 50%;\n",
              "      cursor: pointer;\n",
              "      display: none;\n",
              "      fill: #1967D2;\n",
              "      height: 32px;\n",
              "      padding: 0 0 0 0;\n",
              "      width: 32px;\n",
              "    }\n",
              "\n",
              "    .colab-df-convert:hover {\n",
              "      background-color: #E2EBFA;\n",
              "      box-shadow: 0px 1px 2px rgba(60, 64, 67, 0.3), 0px 1px 3px 1px rgba(60, 64, 67, 0.15);\n",
              "      fill: #174EA6;\n",
              "    }\n",
              "\n",
              "    [theme=dark] .colab-df-convert {\n",
              "      background-color: #3B4455;\n",
              "      fill: #D2E3FC;\n",
              "    }\n",
              "\n",
              "    [theme=dark] .colab-df-convert:hover {\n",
              "      background-color: #434B5C;\n",
              "      box-shadow: 0px 1px 3px 1px rgba(0, 0, 0, 0.15);\n",
              "      filter: drop-shadow(0px 1px 2px rgba(0, 0, 0, 0.3));\n",
              "      fill: #FFFFFF;\n",
              "    }\n",
              "  </style>\n",
              "\n",
              "      <script>\n",
              "        const buttonEl =\n",
              "          document.querySelector('#df-dd0dd36e-af42-423d-9a8b-0e1cbf9014dd button.colab-df-convert');\n",
              "        buttonEl.style.display =\n",
              "          google.colab.kernel.accessAllowed ? 'block' : 'none';\n",
              "\n",
              "        async function convertToInteractive(key) {\n",
              "          const element = document.querySelector('#df-dd0dd36e-af42-423d-9a8b-0e1cbf9014dd');\n",
              "          const dataTable =\n",
              "            await google.colab.kernel.invokeFunction('convertToInteractive',\n",
              "                                                     [key], {});\n",
              "          if (!dataTable) return;\n",
              "\n",
              "          const docLinkHtml = 'Like what you see? Visit the ' +\n",
              "            '<a target=\"_blank\" href=https://colab.research.google.com/notebooks/data_table.ipynb>data table notebook</a>'\n",
              "            + ' to learn more about interactive tables.';\n",
              "          element.innerHTML = '';\n",
              "          dataTable['output_type'] = 'display_data';\n",
              "          await google.colab.output.renderOutput(dataTable, element);\n",
              "          const docLink = document.createElement('div');\n",
              "          docLink.innerHTML = docLinkHtml;\n",
              "          element.appendChild(docLink);\n",
              "        }\n",
              "      </script>\n",
              "    </div>\n",
              "  </div>\n",
              "  "
            ]
          },
          "metadata": {},
          "execution_count": 20
        }
      ]
    },
    {
      "cell_type": "code",
      "source": [
        "for stock in portfolio:\n",
        "  daily_return = close_prices[stock].pct_change()\n",
        "  returns[stock] = daily_return.iloc[1:] * 100"
      ],
      "metadata": {
        "id": "4rA5bofpw8xv"
      },
      "execution_count": 21,
      "outputs": []
    },
    {
      "cell_type": "code",
      "source": [
        "returns.head()"
      ],
      "metadata": {
        "colab": {
          "base_uri": "https://localhost:8080/",
          "height": 238
        },
        "id": "cQKR3fJwysIm",
        "outputId": "65390406-b654-4faf-c5db-441f625c6c51"
      },
      "execution_count": 22,
      "outputs": [
        {
          "output_type": "execute_result",
          "data": {
            "text/plain": [
              "                GLEN       PSN        BP        UU      STAN\n",
              "Date                                                        \n",
              "2022-01-05  1.380113 -0.208117  1.082618 -0.778745 -0.561792\n",
              "2022-01-06 -1.183205 -2.676399  0.098649 -0.969529  3.715770\n",
              "2022-01-07  1.802498 -0.214286  2.083625 -0.419580  2.032267\n",
              "2022-01-10 -1.618817 -5.153901  0.137912 -1.217228  1.129363\n",
              "2022-01-11 -0.295674  1.132075  0.000000 -0.521327  0.060911"
            ],
            "text/html": [
              "\n",
              "  <div id=\"df-1879a84e-5e69-403c-83f9-2e367432ed0d\">\n",
              "    <div class=\"colab-df-container\">\n",
              "      <div>\n",
              "<style scoped>\n",
              "    .dataframe tbody tr th:only-of-type {\n",
              "        vertical-align: middle;\n",
              "    }\n",
              "\n",
              "    .dataframe tbody tr th {\n",
              "        vertical-align: top;\n",
              "    }\n",
              "\n",
              "    .dataframe thead th {\n",
              "        text-align: right;\n",
              "    }\n",
              "</style>\n",
              "<table border=\"1\" class=\"dataframe\">\n",
              "  <thead>\n",
              "    <tr style=\"text-align: right;\">\n",
              "      <th></th>\n",
              "      <th>GLEN</th>\n",
              "      <th>PSN</th>\n",
              "      <th>BP</th>\n",
              "      <th>UU</th>\n",
              "      <th>STAN</th>\n",
              "    </tr>\n",
              "    <tr>\n",
              "      <th>Date</th>\n",
              "      <th></th>\n",
              "      <th></th>\n",
              "      <th></th>\n",
              "      <th></th>\n",
              "      <th></th>\n",
              "    </tr>\n",
              "  </thead>\n",
              "  <tbody>\n",
              "    <tr>\n",
              "      <th>2022-01-05</th>\n",
              "      <td>1.380113</td>\n",
              "      <td>-0.208117</td>\n",
              "      <td>1.082618</td>\n",
              "      <td>-0.778745</td>\n",
              "      <td>-0.561792</td>\n",
              "    </tr>\n",
              "    <tr>\n",
              "      <th>2022-01-06</th>\n",
              "      <td>-1.183205</td>\n",
              "      <td>-2.676399</td>\n",
              "      <td>0.098649</td>\n",
              "      <td>-0.969529</td>\n",
              "      <td>3.715770</td>\n",
              "    </tr>\n",
              "    <tr>\n",
              "      <th>2022-01-07</th>\n",
              "      <td>1.802498</td>\n",
              "      <td>-0.214286</td>\n",
              "      <td>2.083625</td>\n",
              "      <td>-0.419580</td>\n",
              "      <td>2.032267</td>\n",
              "    </tr>\n",
              "    <tr>\n",
              "      <th>2022-01-10</th>\n",
              "      <td>-1.618817</td>\n",
              "      <td>-5.153901</td>\n",
              "      <td>0.137912</td>\n",
              "      <td>-1.217228</td>\n",
              "      <td>1.129363</td>\n",
              "    </tr>\n",
              "    <tr>\n",
              "      <th>2022-01-11</th>\n",
              "      <td>-0.295674</td>\n",
              "      <td>1.132075</td>\n",
              "      <td>0.000000</td>\n",
              "      <td>-0.521327</td>\n",
              "      <td>0.060911</td>\n",
              "    </tr>\n",
              "  </tbody>\n",
              "</table>\n",
              "</div>\n",
              "      <button class=\"colab-df-convert\" onclick=\"convertToInteractive('df-1879a84e-5e69-403c-83f9-2e367432ed0d')\"\n",
              "              title=\"Convert this dataframe to an interactive table.\"\n",
              "              style=\"display:none;\">\n",
              "        \n",
              "  <svg xmlns=\"http://www.w3.org/2000/svg\" height=\"24px\"viewBox=\"0 0 24 24\"\n",
              "       width=\"24px\">\n",
              "    <path d=\"M0 0h24v24H0V0z\" fill=\"none\"/>\n",
              "    <path d=\"M18.56 5.44l.94 2.06.94-2.06 2.06-.94-2.06-.94-.94-2.06-.94 2.06-2.06.94zm-11 1L8.5 8.5l.94-2.06 2.06-.94-2.06-.94L8.5 2.5l-.94 2.06-2.06.94zm10 10l.94 2.06.94-2.06 2.06-.94-2.06-.94-.94-2.06-.94 2.06-2.06.94z\"/><path d=\"M17.41 7.96l-1.37-1.37c-.4-.4-.92-.59-1.43-.59-.52 0-1.04.2-1.43.59L10.3 9.45l-7.72 7.72c-.78.78-.78 2.05 0 2.83L4 21.41c.39.39.9.59 1.41.59.51 0 1.02-.2 1.41-.59l7.78-7.78 2.81-2.81c.8-.78.8-2.07 0-2.86zM5.41 20L4 18.59l7.72-7.72 1.47 1.35L5.41 20z\"/>\n",
              "  </svg>\n",
              "      </button>\n",
              "      \n",
              "  <style>\n",
              "    .colab-df-container {\n",
              "      display:flex;\n",
              "      flex-wrap:wrap;\n",
              "      gap: 12px;\n",
              "    }\n",
              "\n",
              "    .colab-df-convert {\n",
              "      background-color: #E8F0FE;\n",
              "      border: none;\n",
              "      border-radius: 50%;\n",
              "      cursor: pointer;\n",
              "      display: none;\n",
              "      fill: #1967D2;\n",
              "      height: 32px;\n",
              "      padding: 0 0 0 0;\n",
              "      width: 32px;\n",
              "    }\n",
              "\n",
              "    .colab-df-convert:hover {\n",
              "      background-color: #E2EBFA;\n",
              "      box-shadow: 0px 1px 2px rgba(60, 64, 67, 0.3), 0px 1px 3px 1px rgba(60, 64, 67, 0.15);\n",
              "      fill: #174EA6;\n",
              "    }\n",
              "\n",
              "    [theme=dark] .colab-df-convert {\n",
              "      background-color: #3B4455;\n",
              "      fill: #D2E3FC;\n",
              "    }\n",
              "\n",
              "    [theme=dark] .colab-df-convert:hover {\n",
              "      background-color: #434B5C;\n",
              "      box-shadow: 0px 1px 3px 1px rgba(0, 0, 0, 0.15);\n",
              "      filter: drop-shadow(0px 1px 2px rgba(0, 0, 0, 0.3));\n",
              "      fill: #FFFFFF;\n",
              "    }\n",
              "  </style>\n",
              "\n",
              "      <script>\n",
              "        const buttonEl =\n",
              "          document.querySelector('#df-1879a84e-5e69-403c-83f9-2e367432ed0d button.colab-df-convert');\n",
              "        buttonEl.style.display =\n",
              "          google.colab.kernel.accessAllowed ? 'block' : 'none';\n",
              "\n",
              "        async function convertToInteractive(key) {\n",
              "          const element = document.querySelector('#df-1879a84e-5e69-403c-83f9-2e367432ed0d');\n",
              "          const dataTable =\n",
              "            await google.colab.kernel.invokeFunction('convertToInteractive',\n",
              "                                                     [key], {});\n",
              "          if (!dataTable) return;\n",
              "\n",
              "          const docLinkHtml = 'Like what you see? Visit the ' +\n",
              "            '<a target=\"_blank\" href=https://colab.research.google.com/notebooks/data_table.ipynb>data table notebook</a>'\n",
              "            + ' to learn more about interactive tables.';\n",
              "          element.innerHTML = '';\n",
              "          dataTable['output_type'] = 'display_data';\n",
              "          await google.colab.output.renderOutput(dataTable, element);\n",
              "          const docLink = document.createElement('div');\n",
              "          docLink.innerHTML = docLinkHtml;\n",
              "          element.appendChild(docLink);\n",
              "        }\n",
              "      </script>\n",
              "    </div>\n",
              "  </div>\n",
              "  "
            ]
          },
          "metadata": {},
          "execution_count": 22
        }
      ]
    },
    {
      "cell_type": "code",
      "source": [
        "mean_return = returns.mean()\n",
        "mean_return"
      ],
      "metadata": {
        "colab": {
          "base_uri": "https://localhost:8080/"
        },
        "id": "FD9yYYrxysxu",
        "outputId": "1c4086af-0116-4653-dddd-2c4cd4a0c39a"
      },
      "execution_count": 23,
      "outputs": [
        {
          "output_type": "execute_result",
          "data": {
            "text/plain": [
              "GLEN    0.170679\n",
              "PSN    -0.314584\n",
              "BP      0.145394\n",
              "UU     -0.024757\n",
              "STAN    0.148498\n",
              "dtype: float64"
            ]
          },
          "metadata": {},
          "execution_count": 23
        }
      ]
    },
    {
      "cell_type": "code",
      "source": [
        "var = returns.var()\n",
        "var"
      ],
      "metadata": {
        "colab": {
          "base_uri": "https://localhost:8080/"
        },
        "id": "4kqOIpPB08QY",
        "outputId": "c0ec6f4c-cf85-423a-d09e-4f5f2652ff2e"
      },
      "execution_count": 24,
      "outputs": [
        {
          "output_type": "execute_result",
          "data": {
            "text/plain": [
              "GLEN    5.657459\n",
              "PSN     6.156697\n",
              "BP      4.787629\n",
              "UU      2.755930\n",
              "STAN    5.948523\n",
              "dtype: float64"
            ]
          },
          "metadata": {},
          "execution_count": 24
        }
      ]
    },
    {
      "cell_type": "code",
      "source": [
        "cov = returns.cov()\n",
        "cov"
      ],
      "metadata": {
        "colab": {
          "base_uri": "https://localhost:8080/",
          "height": 206
        },
        "id": "Y_HIhw-2yyBd",
        "outputId": "99dfbf3b-cdf9-472d-c293-609359cb44c0"
      },
      "execution_count": 25,
      "outputs": [
        {
          "output_type": "execute_result",
          "data": {
            "text/plain": [
              "          GLEN       PSN        BP        UU      STAN\n",
              "GLEN  5.657459  1.065264  2.555279  0.066008  1.986433\n",
              "PSN   1.065264  6.156697  0.612274  1.206095  1.389055\n",
              "BP    2.555279  0.612274  4.787629  0.013316  2.514048\n",
              "UU    0.066008  1.206095  0.013316  2.755930  0.283242\n",
              "STAN  1.986433  1.389055  2.514048  0.283242  5.948523"
            ],
            "text/html": [
              "\n",
              "  <div id=\"df-43c58129-d671-47ee-a508-aa9615891842\">\n",
              "    <div class=\"colab-df-container\">\n",
              "      <div>\n",
              "<style scoped>\n",
              "    .dataframe tbody tr th:only-of-type {\n",
              "        vertical-align: middle;\n",
              "    }\n",
              "\n",
              "    .dataframe tbody tr th {\n",
              "        vertical-align: top;\n",
              "    }\n",
              "\n",
              "    .dataframe thead th {\n",
              "        text-align: right;\n",
              "    }\n",
              "</style>\n",
              "<table border=\"1\" class=\"dataframe\">\n",
              "  <thead>\n",
              "    <tr style=\"text-align: right;\">\n",
              "      <th></th>\n",
              "      <th>GLEN</th>\n",
              "      <th>PSN</th>\n",
              "      <th>BP</th>\n",
              "      <th>UU</th>\n",
              "      <th>STAN</th>\n",
              "    </tr>\n",
              "  </thead>\n",
              "  <tbody>\n",
              "    <tr>\n",
              "      <th>GLEN</th>\n",
              "      <td>5.657459</td>\n",
              "      <td>1.065264</td>\n",
              "      <td>2.555279</td>\n",
              "      <td>0.066008</td>\n",
              "      <td>1.986433</td>\n",
              "    </tr>\n",
              "    <tr>\n",
              "      <th>PSN</th>\n",
              "      <td>1.065264</td>\n",
              "      <td>6.156697</td>\n",
              "      <td>0.612274</td>\n",
              "      <td>1.206095</td>\n",
              "      <td>1.389055</td>\n",
              "    </tr>\n",
              "    <tr>\n",
              "      <th>BP</th>\n",
              "      <td>2.555279</td>\n",
              "      <td>0.612274</td>\n",
              "      <td>4.787629</td>\n",
              "      <td>0.013316</td>\n",
              "      <td>2.514048</td>\n",
              "    </tr>\n",
              "    <tr>\n",
              "      <th>UU</th>\n",
              "      <td>0.066008</td>\n",
              "      <td>1.206095</td>\n",
              "      <td>0.013316</td>\n",
              "      <td>2.755930</td>\n",
              "      <td>0.283242</td>\n",
              "    </tr>\n",
              "    <tr>\n",
              "      <th>STAN</th>\n",
              "      <td>1.986433</td>\n",
              "      <td>1.389055</td>\n",
              "      <td>2.514048</td>\n",
              "      <td>0.283242</td>\n",
              "      <td>5.948523</td>\n",
              "    </tr>\n",
              "  </tbody>\n",
              "</table>\n",
              "</div>\n",
              "      <button class=\"colab-df-convert\" onclick=\"convertToInteractive('df-43c58129-d671-47ee-a508-aa9615891842')\"\n",
              "              title=\"Convert this dataframe to an interactive table.\"\n",
              "              style=\"display:none;\">\n",
              "        \n",
              "  <svg xmlns=\"http://www.w3.org/2000/svg\" height=\"24px\"viewBox=\"0 0 24 24\"\n",
              "       width=\"24px\">\n",
              "    <path d=\"M0 0h24v24H0V0z\" fill=\"none\"/>\n",
              "    <path d=\"M18.56 5.44l.94 2.06.94-2.06 2.06-.94-2.06-.94-.94-2.06-.94 2.06-2.06.94zm-11 1L8.5 8.5l.94-2.06 2.06-.94-2.06-.94L8.5 2.5l-.94 2.06-2.06.94zm10 10l.94 2.06.94-2.06 2.06-.94-2.06-.94-.94-2.06-.94 2.06-2.06.94z\"/><path d=\"M17.41 7.96l-1.37-1.37c-.4-.4-.92-.59-1.43-.59-.52 0-1.04.2-1.43.59L10.3 9.45l-7.72 7.72c-.78.78-.78 2.05 0 2.83L4 21.41c.39.39.9.59 1.41.59.51 0 1.02-.2 1.41-.59l7.78-7.78 2.81-2.81c.8-.78.8-2.07 0-2.86zM5.41 20L4 18.59l7.72-7.72 1.47 1.35L5.41 20z\"/>\n",
              "  </svg>\n",
              "      </button>\n",
              "      \n",
              "  <style>\n",
              "    .colab-df-container {\n",
              "      display:flex;\n",
              "      flex-wrap:wrap;\n",
              "      gap: 12px;\n",
              "    }\n",
              "\n",
              "    .colab-df-convert {\n",
              "      background-color: #E8F0FE;\n",
              "      border: none;\n",
              "      border-radius: 50%;\n",
              "      cursor: pointer;\n",
              "      display: none;\n",
              "      fill: #1967D2;\n",
              "      height: 32px;\n",
              "      padding: 0 0 0 0;\n",
              "      width: 32px;\n",
              "    }\n",
              "\n",
              "    .colab-df-convert:hover {\n",
              "      background-color: #E2EBFA;\n",
              "      box-shadow: 0px 1px 2px rgba(60, 64, 67, 0.3), 0px 1px 3px 1px rgba(60, 64, 67, 0.15);\n",
              "      fill: #174EA6;\n",
              "    }\n",
              "\n",
              "    [theme=dark] .colab-df-convert {\n",
              "      background-color: #3B4455;\n",
              "      fill: #D2E3FC;\n",
              "    }\n",
              "\n",
              "    [theme=dark] .colab-df-convert:hover {\n",
              "      background-color: #434B5C;\n",
              "      box-shadow: 0px 1px 3px 1px rgba(0, 0, 0, 0.15);\n",
              "      filter: drop-shadow(0px 1px 2px rgba(0, 0, 0, 0.3));\n",
              "      fill: #FFFFFF;\n",
              "    }\n",
              "  </style>\n",
              "\n",
              "      <script>\n",
              "        const buttonEl =\n",
              "          document.querySelector('#df-43c58129-d671-47ee-a508-aa9615891842 button.colab-df-convert');\n",
              "        buttonEl.style.display =\n",
              "          google.colab.kernel.accessAllowed ? 'block' : 'none';\n",
              "\n",
              "        async function convertToInteractive(key) {\n",
              "          const element = document.querySelector('#df-43c58129-d671-47ee-a508-aa9615891842');\n",
              "          const dataTable =\n",
              "            await google.colab.kernel.invokeFunction('convertToInteractive',\n",
              "                                                     [key], {});\n",
              "          if (!dataTable) return;\n",
              "\n",
              "          const docLinkHtml = 'Like what you see? Visit the ' +\n",
              "            '<a target=\"_blank\" href=https://colab.research.google.com/notebooks/data_table.ipynb>data table notebook</a>'\n",
              "            + ' to learn more about interactive tables.';\n",
              "          element.innerHTML = '';\n",
              "          dataTable['output_type'] = 'display_data';\n",
              "          await google.colab.output.renderOutput(dataTable, element);\n",
              "          const docLink = document.createElement('div');\n",
              "          docLink.innerHTML = docLinkHtml;\n",
              "          element.appendChild(docLink);\n",
              "        }\n",
              "      </script>\n",
              "    </div>\n",
              "  </div>\n",
              "  "
            ]
          },
          "metadata": {},
          "execution_count": 25
        }
      ]
    },
    {
      "cell_type": "code",
      "source": [
        "cov_np = cov.to_numpy()"
      ],
      "metadata": {
        "id": "qNquqlj2y1J9"
      },
      "execution_count": 26,
      "outputs": []
    },
    {
      "cell_type": "markdown",
      "source": [
        "# Equally-weighted portfolio"
      ],
      "metadata": {
        "id": "iIRx7ia31L-L"
      }
    },
    {
      "cell_type": "code",
      "source": [
        "D = len(portfolio)\n",
        "D"
      ],
      "metadata": {
        "colab": {
          "base_uri": "https://localhost:8080/"
        },
        "id": "6q8kYnLf1Tcy",
        "outputId": "7fa5ebed-1a74-4aeb-8dbb-6c171fbfb697"
      },
      "execution_count": 27,
      "outputs": [
        {
          "output_type": "execute_result",
          "data": {
            "text/plain": [
              "5"
            ]
          },
          "metadata": {},
          "execution_count": 27
        }
      ]
    },
    {
      "cell_type": "code",
      "source": [
        "weights = np.array([1/D] * D)\n",
        "weights "
      ],
      "metadata": {
        "colab": {
          "base_uri": "https://localhost:8080/"
        },
        "id": "Aj182WRp1mkM",
        "outputId": "819f6e6f-3401-4827-f3f1-a5fdb400ed1d"
      },
      "execution_count": 28,
      "outputs": [
        {
          "output_type": "execute_result",
          "data": {
            "text/plain": [
              "array([0.2, 0.2, 0.2, 0.2, 0.2])"
            ]
          },
          "metadata": {},
          "execution_count": 28
        }
      ]
    },
    {
      "cell_type": "markdown",
      "source": [
        "![image.png](data:image/png;base64,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)"
      ],
      "metadata": {
        "id": "I_k1owxebzGC"
      }
    },
    {
      "cell_type": "code",
      "source": [
        "# portfolio expected return\n",
        "portfolio_er = weights.dot(mean_return)\n",
        "portfolio_er"
      ],
      "metadata": {
        "colab": {
          "base_uri": "https://localhost:8080/"
        },
        "id": "puNSupf82DfU",
        "outputId": "6189b47f-392a-4bc4-ecd0-2565d2840426"
      },
      "execution_count": 29,
      "outputs": [
        {
          "output_type": "execute_result",
          "data": {
            "text/plain": [
              "0.02504606800509386"
            ]
          },
          "metadata": {},
          "execution_count": 29
        }
      ]
    },
    {
      "cell_type": "markdown",
      "source": [
        "![image.png](data:image/png;base64,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)"
      ],
      "metadata": {
        "id": "k8VxoAmo36ZF"
      }
    },
    {
      "cell_type": "code",
      "source": [
        "# portfolio standard deviation\n",
        "portfolio_sd = np.sqrt(np.transpose(weights).dot(cov_np).dot(weights))\n",
        "portfolio_sd"
      ],
      "metadata": {
        "colab": {
          "base_uri": "https://localhost:8080/"
        },
        "id": "nyFmjFrS2e97",
        "outputId": "1a4e2c20-db6b-4b77-bb58-8d7660ccfe14"
      },
      "execution_count": 30,
      "outputs": [
        {
          "output_type": "execute_result",
          "data": {
            "text/plain": [
              "1.3955395787396454"
            ]
          },
          "metadata": {},
          "execution_count": 30
        }
      ]
    },
    {
      "cell_type": "markdown",
      "source": [
        "# Optimal Risk Portfolio"
      ],
      "metadata": {
        "id": "WY6JHmC0466v"
      }
    },
    {
      "cell_type": "code",
      "source": [
        "from scipy.optimize import linprog"
      ],
      "metadata": {
        "id": "Z8uaNZOE59lj"
      },
      "execution_count": 31,
      "outputs": []
    },
    {
      "cell_type": "code",
      "source": [
        "A_eq = np.ones((1, D))\n",
        "b_eq = np.ones(1)\n",
        "bounds = [(0, None)] * D\n",
        "bounds"
      ],
      "metadata": {
        "colab": {
          "base_uri": "https://localhost:8080/"
        },
        "id": "WfEFfc9E5_No",
        "outputId": "52eb44a1-abac-4c2e-fac4-da4bfbf5cb93"
      },
      "execution_count": 32,
      "outputs": [
        {
          "output_type": "execute_result",
          "data": {
            "text/plain": [
              "[(0, None), (0, None), (0, None), (0, None), (0, None)]"
            ]
          },
          "metadata": {},
          "execution_count": 32
        }
      ]
    },
    {
      "cell_type": "code",
      "source": [
        "mean_return"
      ],
      "metadata": {
        "colab": {
          "base_uri": "https://localhost:8080/"
        },
        "id": "FJwW0LMF64WD",
        "outputId": "1ad75772-b3c3-4d07-b7df-62221122cf08"
      },
      "execution_count": 33,
      "outputs": [
        {
          "output_type": "execute_result",
          "data": {
            "text/plain": [
              "GLEN    0.170679\n",
              "PSN    -0.314584\n",
              "BP      0.145394\n",
              "UU     -0.024757\n",
              "STAN    0.148498\n",
              "dtype: float64"
            ]
          },
          "metadata": {},
          "execution_count": 33
        }
      ]
    },
    {
      "cell_type": "code",
      "source": [
        "# minimize\n",
        "res = linprog(mean_return, A_eq=A_eq, b_eq=b_eq, bounds=bounds)\n",
        "res"
      ],
      "metadata": {
        "colab": {
          "base_uri": "https://localhost:8080/"
        },
        "id": "upZZHaD96Ihx",
        "outputId": "fe77294f-b780-4923-f0ae-3fd250bea131"
      },
      "execution_count": 34,
      "outputs": [
        {
          "output_type": "execute_result",
          "data": {
            "text/plain": [
              "     con: array([-7.8618223e-11])\n",
              "     fun: -0.31458407255701204\n",
              " message: 'Optimization terminated successfully.'\n",
              "     nit: 4\n",
              "   slack: array([], dtype=float64)\n",
              "  status: 0\n",
              " success: True\n",
              "       x: array([2.51383429e-11, 1.00000000e+00, 2.69058237e-11, 7.37466078e-13,\n",
              "       2.66697269e-11])"
            ]
          },
          "metadata": {},
          "execution_count": 34
        }
      ]
    },
    {
      "cell_type": "code",
      "source": [
        "min_return = res.fun"
      ],
      "metadata": {
        "id": "h8DymU0I6QaA"
      },
      "execution_count": 35,
      "outputs": []
    },
    {
      "cell_type": "code",
      "source": [
        "res = linprog(-mean_return, A_eq=A_eq, b_eq=b_eq, bounds=bounds)\n",
        "res"
      ],
      "metadata": {
        "colab": {
          "base_uri": "https://localhost:8080/"
        },
        "id": "rmMisq6-6Rjx",
        "outputId": "72c1bef6-edfb-4246-fba5-b26e233e329a"
      },
      "execution_count": 36,
      "outputs": [
        {
          "output_type": "execute_result",
          "data": {
            "text/plain": [
              "     con: array([-8.38529246e-12])\n",
              "     fun: -0.17067898472730575\n",
              " message: 'Optimization terminated successfully.'\n",
              "     nit: 5\n",
              "   slack: array([], dtype=float64)\n",
              "  status: 0\n",
              " success: True\n",
              "       x: array([1.00000000e+00, 1.95368175e-12, 3.34744013e-11, 4.33142773e-12,\n",
              "       4.16192810e-11])"
            ]
          },
          "metadata": {},
          "execution_count": 36
        }
      ]
    },
    {
      "cell_type": "code",
      "source": [
        "max_return = -res.fun"
      ],
      "metadata": {
        "id": "YAathXow6Ykg"
      },
      "execution_count": 37,
      "outputs": []
    },
    {
      "cell_type": "code",
      "source": [
        "min_return, max_return"
      ],
      "metadata": {
        "colab": {
          "base_uri": "https://localhost:8080/"
        },
        "id": "-6sACpQ_6cXg",
        "outputId": "868b48ea-67a8-434d-dc4b-27a7d78c11ba"
      },
      "execution_count": 49,
      "outputs": [
        {
          "output_type": "execute_result",
          "data": {
            "text/plain": [
              "(-0.31458407255701204, 0.17067898472730575)"
            ]
          },
          "metadata": {},
          "execution_count": 49
        }
      ]
    },
    {
      "cell_type": "code",
      "source": [
        "N = 100\n",
        "target_returns = np.linspace(min_return, max_return, num=N)"
      ],
      "metadata": {
        "id": "jOGcTs9M6fAv"
      },
      "execution_count": 39,
      "outputs": []
    },
    {
      "cell_type": "code",
      "source": [
        "from scipy.optimize import minimize"
      ],
      "metadata": {
        "id": "aW0TkgGy7vAf"
      },
      "execution_count": 40,
      "outputs": []
    },
    {
      "cell_type": "code",
      "source": [
        "def get_variance(weights):\n",
        "  return weights.dot(cov).dot(weights)"
      ],
      "metadata": {
        "id": "LP1VNjIA79LH"
      },
      "execution_count": 41,
      "outputs": []
    },
    {
      "cell_type": "code",
      "source": [
        "def target_return_constraint(weights, target):\n",
        "  return weights.dot(mean_return) - target"
      ],
      "metadata": {
        "id": "asvm-Kcs8BSH"
      },
      "execution_count": 42,
      "outputs": []
    },
    {
      "cell_type": "code",
      "source": [
        "def portfolio_constraint(weights):\n",
        "  return weights.sum() - 1"
      ],
      "metadata": {
        "id": "7-OXpi458KR3"
      },
      "execution_count": 43,
      "outputs": []
    },
    {
      "cell_type": "code",
      "source": [
        "constraints = [\n",
        "    {\n",
        "        'type': 'eq',\n",
        "        'fun': target_return_constraint,\n",
        "        'args': [target_returns[0]]\n",
        "    },\n",
        "    {\n",
        "        'type': 'eq', \n",
        "        'fun': portfolio_constraint,\n",
        "    }\n",
        "]"
      ],
      "metadata": {
        "id": "9M-J2Okw8Nhv"
      },
      "execution_count": 44,
      "outputs": []
    },
    {
      "cell_type": "code",
      "source": [
        "# without bounds\n",
        "res = minimize(\n",
        "    fun=get_variance,\n",
        "    x0 = np.ones(D) / D,\n",
        "    method='SLSQP',\n",
        "    constraints=constraints,\n",
        ")\n",
        "res"
      ],
      "metadata": {
        "colab": {
          "base_uri": "https://localhost:8080/"
        },
        "id": "KEJ2OC4z8YzX",
        "outputId": "273c9963-0d19-42bf-c632-c2f352e8f867"
      },
      "execution_count": 45,
      "outputs": [
        {
          "output_type": "execute_result",
          "data": {
            "text/plain": [
              "     fun: 5.291502051218572\n",
              "     jac: array([-0.24210852, 10.58300424,  0.32193547,  4.11762524,  0.252693  ])\n",
              " message: 'Optimization terminated successfully'\n",
              "    nfev: 52\n",
              "     nit: 8\n",
              "    njev: 8\n",
              "  status: 0\n",
              " success: True\n",
              "       x: array([-0.17053285,  0.84080337,  0.11320305,  0.40164541, -0.18511899])"
            ]
          },
          "metadata": {},
          "execution_count": 45
        }
      ]
    },
    {
      "cell_type": "code",
      "source": [
        "np.dot(res.x, mean_return)"
      ],
      "metadata": {
        "colab": {
          "base_uri": "https://localhost:8080/"
        },
        "id": "SOSXys0b9cy9",
        "outputId": "a4fe15dc-d251-412c-ab5f-e45bb60a1339"
      },
      "execution_count": 46,
      "outputs": [
        {
          "output_type": "execute_result",
          "data": {
            "text/plain": [
              "-0.3145840725596498"
            ]
          },
          "metadata": {},
          "execution_count": 46
        }
      ]
    },
    {
      "cell_type": "code",
      "source": [
        "# with bounds\n",
        "res = minimize(\n",
        "    fun=get_variance,\n",
        "    x0 = np.ones(D) / D,\n",
        "    method='SLSQP',\n",
        "    constraints=constraints,\n",
        "    bounds=bounds,\n",
        ")\n",
        "res"
      ],
      "metadata": {
        "colab": {
          "base_uri": "https://localhost:8080/"
        },
        "id": "S-3t-2wy8thO",
        "outputId": "8813bd6c-546a-47e9-a898-d6c1c1b08ef3"
      },
      "execution_count": 47,
      "outputs": [
        {
          "output_type": "execute_result",
          "data": {
            "text/plain": [
              "     fun: 6.156696665839209\n",
              "     jac: array([ 2.13052803, 12.31339347,  1.22454816,  2.41218954,  2.77811038])\n",
              " message: 'Optimization terminated successfully'\n",
              "    nfev: 19\n",
              "     nit: 3\n",
              "    njev: 3\n",
              "  status: 0\n",
              " success: True\n",
              "       x: array([0.00000000e+00, 9.99999998e-01, 2.66453526e-15, 1.67792923e-09,\n",
              "       0.00000000e+00])"
            ]
          },
          "metadata": {},
          "execution_count": 47
        }
      ]
    },
    {
      "cell_type": "code",
      "source": [
        "np.dot(res.x, mean_return)"
      ],
      "metadata": {
        "colab": {
          "base_uri": "https://localhost:8080/"
        },
        "id": "zk7H0hyX9Qc1",
        "outputId": "4747a76e-c1f7-4bc8-970a-04d09276a1c8"
      },
      "execution_count": 48,
      "outputs": [
        {
          "output_type": "execute_result",
          "data": {
            "text/plain": [
              "-0.31458407208311"
            ]
          },
          "metadata": {},
          "execution_count": 48
        }
      ]
    },
    {
      "cell_type": "code",
      "source": [
        "optimized_risks = []\n",
        "for target in target_returns:\n",
        "  constraints[0]['args'] = [target]\n",
        "  res = minimize(\n",
        "      fun = get_variance,\n",
        "      x0 = np.ones(D)/D,\n",
        "      method='SLSQP',\n",
        "      constraints = constraints,\n",
        "      bounds=bounds\n",
        "  )\n",
        "  optimized_risks.append(np.sqrt(res.fun))\n",
        "  if res.status != 0:\n",
        "    print(res)"
      ],
      "metadata": {
        "id": "Cngmq3lF9WFu"
      },
      "execution_count": 50,
      "outputs": []
    },
    {
      "cell_type": "code",
      "source": [
        "mv_risk = np.sqrt(res.fun)\n",
        "mv_weights = res.x\n",
        "mv_ret = mv_weights.dot(mean_return)"
      ],
      "metadata": {
        "id": "zYWdJ2HW_Y-1"
      },
      "execution_count": 51,
      "outputs": []
    },
    {
      "cell_type": "code",
      "source": [
        "N = 10000\n",
        "D = len(mean_return)\n",
        "returns = np.zeros(N)\n",
        "risks = np.zeros(N)\n",
        "for i in range(N):\n",
        "  rand_range = 1.0\n",
        "  w = np.random.random(D) * rand_range - rand_range / 2\n",
        "  w[-1] = 1 - w[:-1].sum()\n",
        "  np.random.shuffle(w)\n",
        "  ret = mean_return.dot(w)\n",
        "  risk = np.sqrt(w.dot(cov_np).dot(w))\n",
        "  returns[i] = ret\n",
        "  risks[i] = risk"
      ],
      "metadata": {
        "id": "dDvdy1_B_lMQ"
      },
      "execution_count": 53,
      "outputs": []
    },
    {
      "cell_type": "code",
      "source": [
        "plt.scatter(risks, returns, alpha=.1);\n",
        "plt.plot(optimized_risks, target_returns, c='black');\n",
        "plt.scatter([mv_risk], [mv_ret], c='red');"
      ],
      "metadata": {
        "colab": {
          "base_uri": "https://localhost:8080/",
          "height": 265
        },
        "id": "ZFNVn5N7_aiN",
        "outputId": "9b6a649f-267b-4ddb-eff9-edcd8ae8fe03"
      },
      "execution_count": 54,
      "outputs": [
        {
          "output_type": "display_data",
          "data": {
            "text/plain": [
              "<Figure size 432x288 with 1 Axes>"
            ],
            "image/png": "[encoded data removed]"
          },
          "metadata": {
            "needs_background": "light"
          }
        }
      ]
    },
    {
      "cell_type": "code",
      "source": [],
      "metadata": {
        "id": "OVrs6Bvn_b-l"
      },
      "execution_count": null,
      "outputs": []
    }
  ]
}